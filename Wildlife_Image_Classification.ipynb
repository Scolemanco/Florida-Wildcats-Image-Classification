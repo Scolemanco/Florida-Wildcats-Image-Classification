{
  "nbformat": 4,
  "nbformat_minor": 0,
  "metadata": {
    "colab": {
      "name": "Wildlife_Image_Classification.ipynb",
      "provenance": [],
      "collapsed_sections": []
    },
    "kernelspec": {
      "name": "python3",
      "display_name": "Python 3"
    },
    "language_info": {
      "name": "python"
    },
    "accelerator": "GPU"
  },
  "cells": [
    {
      "cell_type": "markdown",
      "source": [
        "Project Task:\n",
        "\n",
        "Image Classification of Florida Wildlife. \n",
        "\n",
        "\n",
        "Image dataset comes from UCF's Florida Wildlife Camera Traps Dataset:\n",
        "https://www.crcv.ucf.edu/research/projects/florida-wildlife-camera-trap-dataset/\n",
        "\n",
        "\n"
      ],
      "metadata": {
        "id": "gZAw62f6XAPQ"
      }
    },
    {
      "cell_type": "markdown",
      "source": [
        "Progress Report:\n",
        "\n",
        "There were problems with the dataset size. Downloading all five parts of the dataset left me with 16 GB of space. For Capstone Checkpoint 3, this is an initial binary classification model using the Bobcats and Panthers classes and performing accuracy, precision, and recall metrics on the model.\n",
        "\n",
        "I intend to include three more classes in future models to make this a multi classification model. \n",
        "\n",
        "Even with Google Colab's GPU the model was taking a while to train, so I cut the epochs down 3 for the sake of time."
      ],
      "metadata": {
        "id": "2FG6U_Okc1Nj"
      }
    },
    {
      "cell_type": "code",
      "execution_count": 1,
      "metadata": {
        "id": "TBZvuNu1c7_Z"
      },
      "outputs": [],
      "source": [
        "import pandas as pd\n",
        "import numpy as np\n",
        "import matplotlib.pyplot as plt\n",
        "import tensorflow as tf\n",
        "from google.colab import drive\n",
        "from sklearn.model_selection import train_test_split\n",
        "from tensorflow.keras.layers import Dense, Flatten, Conv2D, MaxPooling2D\n",
        "from tensorflow.keras.models import Sequential\n",
        "from tensorflow.keras.preprocessing.image import img_to_array, load_img\n",
        "from tensorflow.keras.preprocessing.image import ImageDataGenerator"
      ]
    },
    {
      "cell_type": "code",
      "source": [
        "drive.mount('/content/drive')\n",
        "np.random.seed(42)"
      ],
      "metadata": {
        "colab": {
          "base_uri": "https://localhost:8080/"
        },
        "id": "NZ9r9YZqeMDX",
        "outputId": "623474bd-d33d-4aa9-f500-c11b43e59e3c"
      },
      "execution_count": 2,
      "outputs": [
        {
          "output_type": "stream",
          "name": "stdout",
          "text": [
            "Mounted at /content/drive\n"
          ]
        }
      ]
    },
    {
      "cell_type": "code",
      "source": [
        "train_gen = ImageDataGenerator(rescale=1/255)\n",
        "test_gen = ImageDataGenerator(rescale=1/255)"
      ],
      "metadata": {
        "id": "t2A20W3teMBS"
      },
      "execution_count": 5,
      "outputs": []
    },
    {
      "cell_type": "code",
      "source": [
        "train = train_gen.flow_from_directory(\n",
        "    '/content/drive/MyDrive/Wildlife Capstone/wildlife_data/train',\n",
        "    target_size=(256,256),\n",
        "    subset='training',\n",
        "    class_mode = 'binary'\n",
        "    )\n",
        "test = test_gen.flow_from_directory(\n",
        "    '/content/drive/MyDrive/Wildlife Capstone/wildlife_data/test',\n",
        "    target_size=(256,256),\n",
        "    subset='training',\n",
        "    class_mode = 'binary'\n",
        "    )"
      ],
      "metadata": {
        "colab": {
          "base_uri": "https://localhost:8080/"
        },
        "id": "Bjv6eda2eL-8",
        "outputId": "7dda86d8-05da-4118-84ab-e64fc6ef6aa1"
      },
      "execution_count": 6,
      "outputs": [
        {
          "output_type": "stream",
          "name": "stdout",
          "text": [
            "Found 3542 images belonging to 2 classes.\n",
            "Found 754 images belonging to 2 classes.\n"
          ]
        }
      ]
    },
    {
      "cell_type": "code",
      "source": [
        "train.class_indices"
      ],
      "metadata": {
        "colab": {
          "base_uri": "https://localhost:8080/"
        },
        "id": "Ri-yW5gIkmFH",
        "outputId": "da08f0bd-13b8-48e5-86e3-1c13708784da"
      },
      "execution_count": 7,
      "outputs": [
        {
          "output_type": "execute_result",
          "data": {
            "text/plain": [
              "{'Bobcats': 0, 'Panthers': 1}"
            ]
          },
          "metadata": {},
          "execution_count": 7
        }
      ]
    },
    {
      "cell_type": "code",
      "source": [
        "basemodel = Sequential()\n",
        "basemodel.add(Conv2D(16, (3,3), activation='relu', input_shape=(256,256,3)))\n",
        "basemodel.add(MaxPooling2D(pool_size=(2,2)))\n",
        "basemodel.add(Conv2D(32, (3,3), activation='relu'))\n",
        "basemodel.add(MaxPooling2D(pool_size=(2,2)))\n",
        "basemodel.add(Conv2D(64, (3,3), activation='relu'))\n",
        "basemodel.add(MaxPooling2D(pool_size=(2,2)))\n",
        "basemodel.add(Flatten())\n",
        "basemodel.add(Dense(512, activation='relu'))\n",
        "basemodel.add(Dense(1, activation='sigmoid'))"
      ],
      "metadata": {
        "id": "dYQcn1g3eL8D"
      },
      "execution_count": 8,
      "outputs": []
    },
    {
      "cell_type": "code",
      "source": [
        "basemodel.compile(\n",
        "    optimizer='adam',\n",
        "    loss='bce',\n",
        "    metrics=['accuracy', 'Precision', 'Recall'])"
      ],
      "metadata": {
        "id": "oCY4ttFheL59"
      },
      "execution_count": 9,
      "outputs": []
    },
    {
      "cell_type": "code",
      "source": [
        "history = basemodel.fit(train, validation_data = test, epochs=3, verbose=1)"
      ],
      "metadata": {
        "id": "R0eg9Z0ZeL3n",
        "colab": {
          "base_uri": "https://localhost:8080/"
        },
        "outputId": "e464f18b-55cf-4e36-c8f7-bbc906a28f08"
      },
      "execution_count": 12,
      "outputs": [
        {
          "output_type": "stream",
          "name": "stdout",
          "text": [
            "Epoch 1/3\n",
            "111/111 [==============================] - 813s 7s/step - loss: 0.6181 - accuracy: 0.6525 - precision: 0.6585 - recall: 0.7440 - val_loss: 0.5463 - val_accuracy: 0.6936 - val_precision: 0.6624 - val_recall: 0.8125\n",
            "Epoch 2/3\n",
            "111/111 [==============================] - 183s 2s/step - loss: 0.4045 - accuracy: 0.8114 - precision: 0.8225 - recall: 0.8311 - val_loss: 0.5821 - val_accuracy: 0.6963 - val_precision: 0.6529 - val_recall: 0.8620\n",
            "Epoch 3/3\n",
            "111/111 [==============================] - 180s 2s/step - loss: 0.2656 - accuracy: 0.8806 - precision: 0.8871 - recall: 0.8931 - val_loss: 0.6859 - val_accuracy: 0.7255 - val_precision: 0.6781 - val_recall: 0.8776\n"
          ]
        }
      ]
    },
    {
      "cell_type": "code",
      "source": [
        "history.history"
      ],
      "metadata": {
        "id": "6yylK0PyeLzL",
        "colab": {
          "base_uri": "https://localhost:8080/"
        },
        "outputId": "bb5be376-22f8-4fbf-94a7-5d39c19c8dc1"
      },
      "execution_count": 13,
      "outputs": [
        {
          "output_type": "execute_result",
          "data": {
            "text/plain": [
              "{'accuracy': [0.6524562239646912, 0.8114059567451477, 0.880575954914093],\n",
              " 'loss': [0.6180945038795471, 0.4045083820819855, 0.265580952167511],\n",
              " 'precision': [0.6585140824317932, 0.8224974274635315, 0.8871051073074341],\n",
              " 'recall': [0.7440041899681091, 0.831074059009552, 0.8931178450584412],\n",
              " 'val_accuracy': [0.6936339735984802, 0.6962864995002747, 0.7254641652107239],\n",
              " 'val_loss': [0.5462769865989685, 0.5821450352668762, 0.6858850121498108],\n",
              " 'val_precision': [0.662420392036438, 0.6528599858283997, 0.6780683994293213],\n",
              " 'val_recall': [0.8125, 0.8619791865348816, 0.8776041865348816]}"
            ]
          },
          "metadata": {},
          "execution_count": 13
        }
      ]
    },
    {
      "cell_type": "code",
      "source": [
        "plt.figure(figsize=(15,10))\n",
        "plt.plot(history.history['val_accuracy'], label='Validation Accuracy')\n",
        "plt.plot(history.history['val_precision'], label='Validation Precision')\n",
        "plt.plot(history.history['val_recall'], label='Validation Recall')\n",
        "plt.xlabel('Epochs')\n",
        "plt.ylabel('Metrics')\n",
        "plt.legend()\n",
        "plt.title('Validation Metrics From Test Set')"
      ],
      "metadata": {
        "id": "An2dgTUIeLxI",
        "colab": {
          "base_uri": "https://localhost:8080/",
          "height": 639
        },
        "outputId": "fe9307df-f347-4ee8-b174-9b39449226dc"
      },
      "execution_count": 14,
      "outputs": [
        {
          "output_type": "execute_result",
          "data": {
            "text/plain": [
              "Text(0.5, 1.0, 'Validation Metrics From Test Set')"
            ]
          },
          "metadata": {},
          "execution_count": 14
        },
        {
          "output_type": "display_data",
          "data": {
            "text/plain": [
              "<Figure size 1080x720 with 1 Axes>"
            ],
            "image/png": "[encoded data removed]"
          },
          "metadata": {
            "needs_background": "light"
          }
        }
      ]
    },
    {
      "cell_type": "markdown",
      "source": [
        "Code Credit (so far):\n",
        "\n",
        "7.05 Lesson CNNs \n",
        "  - Processing Images\n",
        "  - CNN\n",
        "\n",
        "https://keras.io/examples/vision/image_classification_from_scratch/\n",
        "\n",
        "https://www.tensorflow.org/tutorials/images/classification\n"
      ],
      "metadata": {
        "id": "Ay8xtJ5IYJ3K"
      }
    },
    {
      "cell_type": "code",
      "source": [
        ""
      ],
      "metadata": {
        "id": "cI8ccnkLhx0G"
      },
      "execution_count": null,
      "outputs": []
    }
  ]
}